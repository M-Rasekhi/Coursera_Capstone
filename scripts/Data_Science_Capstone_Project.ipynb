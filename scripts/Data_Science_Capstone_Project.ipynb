{
 "cells": [
  {
   "cell_type": "code",
   "execution_count": 1,
   "metadata": {},
   "outputs": [],
   "source": [
    "# importing required libraries\n",
    "\n",
    "import pandas as pd\n",
    "import numpy as np\n",
    "import matplotlib.pyplot as plt\n",
    "\n",
    "from datetime import datetime as dt\n",
    "\n",
    "from sklearn.feature_selection import SelectKBest\n",
    "from sklearn.feature_selection import SelectKBest\n",
    "from sklearn.feature_selection import chi2\n",
    "from sklearn.preprocessing import LabelEncoder\n",
    "from sklearn.ensemble import ExtraTreesClassifier\n",
    "from sklearn import metrics\n",
    "from sklearn.metrics import plot_confusion_matrix\n",
    "from sklearn.preprocessing import StandardScaler\n",
    "from sklearn.model_selection import train_test_split\n",
    "from sklearn.neighbors import KNeighborsClassifier\n",
    "from sklearn.ensemble import RandomForestClassifier\n",
    "from sklearn.linear_model import LogisticRegression\n",
    "\n",
    "import seaborn as sns\n",
    "\n",
    "\n"
   ]
  },
  {
   "cell_type": "code",
   "execution_count": 2,
   "metadata": {},
   "outputs": [],
   "source": [
    "# Reading raw data\n",
    "data=pd.read_csv(\"Crashes_Last_Five_Years-original.csv\")\n"
   ]
  },
  {
   "cell_type": "code",
   "execution_count": 3,
   "metadata": {},
   "outputs": [
    {
     "data": {
      "text/plain": [
       "Other injury accident      52032\n",
       "Serious injury accident    21561\n",
       "Fatal accident              1314\n",
       "Non injury accident            1\n",
       "Name: SEVERITY, dtype: int64"
      ]
     },
     "execution_count": 3,
     "metadata": {},
     "output_type": "execute_result"
    }
   ],
   "source": [
    "#  SEVERITY value count\n",
    "data['SEVERITY'].value_counts()"
   ]
  },
  {
   "cell_type": "code",
   "execution_count": 4,
   "metadata": {},
   "outputs": [],
   "source": [
    "# delete record with severity = \"Non injury accident\"\n",
    "condition= data['SEVERITY']=='Non injury accident'\n",
    "data.drop(data[condition].index,inplace=True)\n"
   ]
  },
  {
   "cell_type": "code",
   "execution_count": 5,
   "metadata": {},
   "outputs": [
    {
     "data": {
      "text/plain": [
       "Other injury accident      52032\n",
       "Serious injury accident    21561\n",
       "Fatal accident              1314\n",
       "Name: SEVERITY, dtype: int64"
      ]
     },
     "execution_count": 5,
     "metadata": {},
     "output_type": "execute_result"
    }
   ],
   "source": [
    "data['SEVERITY'].value_counts()"
   ]
  },
  {
   "cell_type": "code",
   "execution_count": 6,
   "metadata": {},
   "outputs": [
    {
     "data": {
      "text/html": [
       "<div>\n",
       "<style scoped>\n",
       "    .dataframe tbody tr th:only-of-type {\n",
       "        vertical-align: middle;\n",
       "    }\n",
       "\n",
       "    .dataframe tbody tr th {\n",
       "        vertical-align: top;\n",
       "    }\n",
       "\n",
       "    .dataframe thead th {\n",
       "        text-align: right;\n",
       "    }\n",
       "</style>\n",
       "<table border=\"1\" class=\"dataframe\">\n",
       "  <thead>\n",
       "    <tr style=\"text-align: right;\">\n",
       "      <th></th>\n",
       "      <th>OBJECTID</th>\n",
       "      <th>ACCIDENT_NO</th>\n",
       "      <th>ABS_CODE</th>\n",
       "      <th>ACCIDENT_STATUS</th>\n",
       "      <th>ACCIDENT_DATE</th>\n",
       "      <th>ACCIDENT_TIME</th>\n",
       "      <th>ALCOHOLTIME</th>\n",
       "      <th>ACCIDENT_TYPE</th>\n",
       "      <th>DAY_OF_WEEK</th>\n",
       "      <th>DCA_CODE</th>\n",
       "      <th>...</th>\n",
       "      <th>DEG_URBAN_ALL</th>\n",
       "      <th>LGA_NAME_ALL</th>\n",
       "      <th>REGION_NAME_ALL</th>\n",
       "      <th>SRNS</th>\n",
       "      <th>SRNS_ALL</th>\n",
       "      <th>RMA</th>\n",
       "      <th>RMA_ALL</th>\n",
       "      <th>DIVIDED</th>\n",
       "      <th>DIVIDED_ALL</th>\n",
       "      <th>STAT_DIV_NAME</th>\n",
       "    </tr>\n",
       "  </thead>\n",
       "  <tbody>\n",
       "    <tr>\n",
       "      <th>0</th>\n",
       "      <td>3401744</td>\n",
       "      <td>T20130013732</td>\n",
       "      <td>ABS to receive accident</td>\n",
       "      <td>Finished</td>\n",
       "      <td>1/07/2013</td>\n",
       "      <td>18.30.00</td>\n",
       "      <td>Yes</td>\n",
       "      <td>Struck Pedestrian</td>\n",
       "      <td>Monday</td>\n",
       "      <td>PED NEAR SIDE. PED HIT BY VEHICLE FROM THE RIGHT.</td>\n",
       "      <td>...</td>\n",
       "      <td>MELB_URBAN</td>\n",
       "      <td>MELBOURNE</td>\n",
       "      <td>METROPOLITAN NORTH WEST REGION</td>\n",
       "      <td>NaN</td>\n",
       "      <td>NaN</td>\n",
       "      <td>Local Road</td>\n",
       "      <td>Local Road</td>\n",
       "      <td>Undivided</td>\n",
       "      <td>Undiv</td>\n",
       "      <td>Metro</td>\n",
       "    </tr>\n",
       "    <tr>\n",
       "      <th>1</th>\n",
       "      <td>3401745</td>\n",
       "      <td>T20130013736</td>\n",
       "      <td>ABS to receive accident</td>\n",
       "      <td>Finished</td>\n",
       "      <td>2/07/2013</td>\n",
       "      <td>16.40.00</td>\n",
       "      <td>No</td>\n",
       "      <td>Collision with vehicle</td>\n",
       "      <td>Tuesday</td>\n",
       "      <td>PARKED VEHICLES ONLY</td>\n",
       "      <td>...</td>\n",
       "      <td>MELB_URBAN</td>\n",
       "      <td>WHITEHORSE</td>\n",
       "      <td>METROPOLITAN SOUTH EAST REGION</td>\n",
       "      <td>NaN</td>\n",
       "      <td>NaN</td>\n",
       "      <td>Arterial Other</td>\n",
       "      <td>Arterial Other,Local Road</td>\n",
       "      <td>Divided</td>\n",
       "      <td>Div,Undiv</td>\n",
       "      <td>Metro</td>\n",
       "    </tr>\n",
       "    <tr>\n",
       "      <th>2</th>\n",
       "      <td>3401746</td>\n",
       "      <td>T20130013737</td>\n",
       "      <td>ABS to receive accident</td>\n",
       "      <td>Finished</td>\n",
       "      <td>2/07/2013</td>\n",
       "      <td>13.15.00</td>\n",
       "      <td>No</td>\n",
       "      <td>Collision with a fixed object</td>\n",
       "      <td>Tuesday</td>\n",
       "      <td>RIGHT OFF CARRIAGEWAY INTO OBJECT/PARKED VEHICLE</td>\n",
       "      <td>...</td>\n",
       "      <td>MELB_URBAN</td>\n",
       "      <td>BRIMBANK</td>\n",
       "      <td>METROPOLITAN NORTH WEST REGION</td>\n",
       "      <td>NaN</td>\n",
       "      <td>NaN</td>\n",
       "      <td>Local Road</td>\n",
       "      <td>Local Road</td>\n",
       "      <td>Undivided</td>\n",
       "      <td>Undiv</td>\n",
       "      <td>Metro</td>\n",
       "    </tr>\n",
       "    <tr>\n",
       "      <th>3</th>\n",
       "      <td>3401747</td>\n",
       "      <td>T20130013738</td>\n",
       "      <td>ABS to receive accident</td>\n",
       "      <td>Finished</td>\n",
       "      <td>2/07/2013</td>\n",
       "      <td>16.45.00</td>\n",
       "      <td>No</td>\n",
       "      <td>Collision with a fixed object</td>\n",
       "      <td>Tuesday</td>\n",
       "      <td>RIGHT OFF CARRIAGEWAY INTO OBJECT/PARKED VEHICLE</td>\n",
       "      <td>...</td>\n",
       "      <td>RURAL_VICTORIA</td>\n",
       "      <td>MITCHELL</td>\n",
       "      <td>NORTHERN REGION</td>\n",
       "      <td>M</td>\n",
       "      <td>M</td>\n",
       "      <td>Freeway</td>\n",
       "      <td>Freeway</td>\n",
       "      <td>Divided</td>\n",
       "      <td>Div</td>\n",
       "      <td>Country</td>\n",
       "    </tr>\n",
       "    <tr>\n",
       "      <th>4</th>\n",
       "      <td>3401748</td>\n",
       "      <td>T20130013739</td>\n",
       "      <td>ABS to receive accident</td>\n",
       "      <td>Finished</td>\n",
       "      <td>2/07/2013</td>\n",
       "      <td>15.48.00</td>\n",
       "      <td>No</td>\n",
       "      <td>Collision with vehicle</td>\n",
       "      <td>Tuesday</td>\n",
       "      <td>U TURN</td>\n",
       "      <td>...</td>\n",
       "      <td>MELBOURNE_CBD,MELB_URBAN</td>\n",
       "      <td>MELBOURNE</td>\n",
       "      <td>METROPOLITAN NORTH WEST REGION</td>\n",
       "      <td>NaN</td>\n",
       "      <td>NaN</td>\n",
       "      <td>Local Road</td>\n",
       "      <td>Local Road</td>\n",
       "      <td>Undivided</td>\n",
       "      <td>Undiv</td>\n",
       "      <td>Metro</td>\n",
       "    </tr>\n",
       "  </tbody>\n",
       "</table>\n",
       "<p>5 rows × 63 columns</p>\n",
       "</div>"
      ],
      "text/plain": [
       "   OBJECTID   ACCIDENT_NO                 ABS_CODE ACCIDENT_STATUS  \\\n",
       "0   3401744  T20130013732  ABS to receive accident        Finished   \n",
       "1   3401745  T20130013736  ABS to receive accident        Finished   \n",
       "2   3401746  T20130013737  ABS to receive accident        Finished   \n",
       "3   3401747  T20130013738  ABS to receive accident        Finished   \n",
       "4   3401748  T20130013739  ABS to receive accident        Finished   \n",
       "\n",
       "  ACCIDENT_DATE ACCIDENT_TIME ALCOHOLTIME                  ACCIDENT_TYPE  \\\n",
       "0     1/07/2013      18.30.00         Yes              Struck Pedestrian   \n",
       "1     2/07/2013      16.40.00          No         Collision with vehicle   \n",
       "2     2/07/2013      13.15.00          No  Collision with a fixed object   \n",
       "3     2/07/2013      16.45.00          No  Collision with a fixed object   \n",
       "4     2/07/2013      15.48.00          No         Collision with vehicle   \n",
       "\n",
       "  DAY_OF_WEEK                                           DCA_CODE  ...  \\\n",
       "0      Monday  PED NEAR SIDE. PED HIT BY VEHICLE FROM THE RIGHT.  ...   \n",
       "1     Tuesday                               PARKED VEHICLES ONLY  ...   \n",
       "2     Tuesday   RIGHT OFF CARRIAGEWAY INTO OBJECT/PARKED VEHICLE  ...   \n",
       "3     Tuesday   RIGHT OFF CARRIAGEWAY INTO OBJECT/PARKED VEHICLE  ...   \n",
       "4     Tuesday                                             U TURN  ...   \n",
       "\n",
       "              DEG_URBAN_ALL LGA_NAME_ALL                 REGION_NAME_ALL SRNS  \\\n",
       "0                MELB_URBAN    MELBOURNE  METROPOLITAN NORTH WEST REGION  NaN   \n",
       "1                MELB_URBAN   WHITEHORSE  METROPOLITAN SOUTH EAST REGION  NaN   \n",
       "2                MELB_URBAN     BRIMBANK  METROPOLITAN NORTH WEST REGION  NaN   \n",
       "3            RURAL_VICTORIA     MITCHELL                 NORTHERN REGION    M   \n",
       "4  MELBOURNE_CBD,MELB_URBAN    MELBOURNE  METROPOLITAN NORTH WEST REGION  NaN   \n",
       "\n",
       "  SRNS_ALL             RMA                    RMA_ALL    DIVIDED  DIVIDED_ALL  \\\n",
       "0      NaN      Local Road                 Local Road  Undivided        Undiv   \n",
       "1      NaN  Arterial Other  Arterial Other,Local Road    Divided    Div,Undiv   \n",
       "2      NaN      Local Road                 Local Road  Undivided        Undiv   \n",
       "3        M         Freeway                    Freeway    Divided          Div   \n",
       "4      NaN      Local Road                 Local Road  Undivided        Undiv   \n",
       "\n",
       "   STAT_DIV_NAME  \n",
       "0          Metro  \n",
       "1          Metro  \n",
       "2          Metro  \n",
       "3        Country  \n",
       "4          Metro  \n",
       "\n",
       "[5 rows x 63 columns]"
      ]
     },
     "execution_count": 6,
     "metadata": {},
     "output_type": "execute_result"
    }
   ],
   "source": [
    "data.head()"
   ]
  },
  {
   "cell_type": "code",
   "execution_count": 7,
   "metadata": {},
   "outputs": [],
   "source": [
    "data.drop(columns=['SRNS_ALL','SRNS'], inplace=True)"
   ]
  },
  {
   "cell_type": "code",
   "execution_count": 8,
   "metadata": {},
   "outputs": [],
   "source": [
    "# Delete all rows with any missing data\n",
    "\n",
    "data.dropna(inplace=True)"
   ]
  },
  {
   "cell_type": "code",
   "execution_count": 9,
   "metadata": {},
   "outputs": [],
   "source": [
    "# #  Convert ACCIDENT_TIME column data to datetime format, \n",
    "data[\"ACCIDENT_TIME\"]=pd.to_datetime(data[\"ACCIDENT_TIME\"],format=\"%H.%M.%S\")\n",
    "\n",
    "# # EXTRACT THE TIME FROM DATETIME\n",
    "data[\"ACCIDENT_TIME\"]=data[\"ACCIDENT_TIME\"].dt.hour\n",
    "\n",
    "#  Get only the data for metropolitan Melbourne\n",
    "metro=data['STAT_DIV_NAME']=='Metro'\n",
    "data=data[metro]\n",
    "\n",
    "# Remove items with more than 105 unique values\n",
    "max_number_of_unique = 105\n",
    "data = data.loc[:, (data.nunique() <= max_number_of_unique)]\n",
    "\n",
    "# Remove attributes that directly define the seriousness of the crash, or are irrelevant\n",
    "data=data.drop(['OTHERINJURY','SERIOUSINJURY','UNKNOWN','NONINJURED',\n",
    "                'FATALITY',\"INJ_OR_FATAL\",'POLICE_ATTEND',\n",
    "                'ACCIDENT_STATUS','ABS_CODE','REGION_NAME',\n",
    "                \"DEG_URBAN_NAME\",'DEG_URBAN_ALL','REGION_NAME_ALL',\n",
    "                'RMA','DIVIDED','STAT_DIV_NAME','LGA_NAME_ALL','DCA_CODE','MALES','FEMALES','TOTAL_PERSONS','PASSENGER'], axis=1)"
   ]
  },
  {
   "cell_type": "code",
   "execution_count": 10,
   "metadata": {},
   "outputs": [
    {
     "name": "stdout",
     "output_type": "stream",
     "text": [
      "Other injury accident      36817\n",
      "Serious injury accident    13701\n",
      "Fatal accident               608\n",
      "Name: SEVERITY, dtype: int64\n"
     ]
    },
    {
     "data": {
      "image/png": "[encoded data removed]",
      "text/plain": [
       "<Figure size 432x288 with 1 Axes>"
      ]
     },
     "metadata": {
      "needs_background": "light"
     },
     "output_type": "display_data"
    }
   ],
   "source": [
    "# Check value counts for target classes\n",
    "\n",
    "print(data['SEVERITY'].value_counts())\n",
    "data.SEVERITY.value_counts().plot(kind='bar', title='Count (target)');"
   ]
  },
  {
   "cell_type": "code",
   "execution_count": 11,
   "metadata": {},
   "outputs": [],
   "source": [
    "# Combilne severity category 'Fatal accident' with category 'Serious injury accident' , as a result there will be just two categories,\n",
    "# 0 represents \"Other injury accident\" and 1 represents \"Serious injury accident\",\n",
    "\n",
    "data['SEVERITY'].replace(\"Fatal accident\",'Serious injury accident',inplace=True)"
   ]
  },
  {
   "cell_type": "code",
   "execution_count": 12,
   "metadata": {},
   "outputs": [
    {
     "name": "stdout",
     "output_type": "stream",
     "text": [
      "Other injury accident      36817\n",
      "Serious injury accident    14309\n",
      "Name: SEVERITY, dtype: int64\n"
     ]
    },
    {
     "data": {
      "image/png": "[encoded data removed]",
      "text/plain": [
       "<Figure size 432x288 with 1 Axes>"
      ]
     },
     "metadata": {
      "needs_background": "light"
     },
     "output_type": "display_data"
    }
   ],
   "source": [
    "# Check value counts for target classes\n",
    "\n",
    "print(data['SEVERITY'].value_counts())\n",
    "data.SEVERITY.value_counts().plot(kind='bar', title='Count (target)');"
   ]
  },
  {
   "cell_type": "code",
   "execution_count": 13,
   "metadata": {},
   "outputs": [],
   "source": [
    "# data will require resembling due to imbalance, this will be done after label encoding"
   ]
  },
  {
   "cell_type": "code",
   "execution_count": 14,
   "metadata": {},
   "outputs": [
    {
     "name": "stdout",
     "output_type": "stream",
     "text": [
      "Random under-sampling:\n",
      "Other injury accident      14309\n",
      "Serious injury accident    14309\n",
      "Name: SEVERITY, dtype: int64\n"
     ]
    },
    {
     "data": {
      "image/png": "[encoded data removed]",
      "text/plain": [
       "<Figure size 432x288 with 1 Axes>"
      ]
     },
     "metadata": {
      "needs_background": "light"
     },
     "output_type": "display_data"
    }
   ],
   "source": [
    "# Resembling Under-Sampling\n",
    "# Class count\n",
    "count_class_0, count_class_1 = data.SEVERITY.value_counts()\n",
    "\n",
    "# Divide by class\n",
    "data_class_0 = data[data['SEVERITY'] == 'Other injury accident']\n",
    "data_class_1 = data[data['SEVERITY'] == 'Serious injury accident']\n",
    "\n",
    "\n",
    "\n",
    "# Random under-sampling\n",
    "data_class_0_under = data_class_0.sample(count_class_1)\n",
    "data = pd.concat([data_class_0_under, data_class_1], axis=0)\n",
    "\n",
    "print('Random under-sampling:')\n",
    "print(data.SEVERITY.value_counts())\n",
    "\n",
    "data.SEVERITY.value_counts().plot(kind='bar', title='Count (target)');"
   ]
  },
  {
   "cell_type": "code",
   "execution_count": 15,
   "metadata": {},
   "outputs": [],
   "source": [
    "# # Apply LabelEncoder to all columns with non numerical values\n",
    "\n",
    "le=LabelEncoder()\n",
    "for col in data.columns:\n",
    "    if data[col].dtype == 'object' and col !='ACCIDENT_TIME':\n",
    "        data[col]=data[col].astype('str')\n",
    "        data[col]=le.fit_transform(data[col])"
   ]
  },
  {
   "cell_type": "code",
   "execution_count": 16,
   "metadata": {},
   "outputs": [],
   "source": [
    "# Separating features and target \n",
    "target_col='SEVERITY'\n",
    "X=data.loc[:,data.columns != target_col]\n",
    "y=data.loc[:,target_col]"
   ]
  },
  {
   "cell_type": "code",
   "execution_count": 17,
   "metadata": {},
   "outputs": [
    {
     "name": "stdout",
     "output_type": "stream",
     "text": [
      "[0.14772351 0.01220934 0.02671303 0.1206987  0.01379287 0.04752444\n",
      " 0.03650615 0.09385476 0.01409529 0.01359765 0.16557413 0.00853772\n",
      " 0.0269722  0.00982325 0.00185075 0.01017816 0.00285103 0.00462133\n",
      " 0.00712057 0.01260016 0.0306591  0.00849878 0.00871541 0.02146358\n",
      " 0.00737507 0.0292753  0.0087316  0.00381076 0.06922875 0.03539662]\n"
     ]
    },
    {
     "data": {
      "image/png": "[encoded data removed]",
      "text/plain": [
       "<Figure size 432x288 with 1 Axes>"
      ]
     },
     "metadata": {
      "needs_background": "light"
     },
     "output_type": "display_data"
    }
   ],
   "source": [
    "# Selecting best 25 best features for analysis\n",
    "\n",
    "model=ExtraTreesClassifier()\n",
    "model.fit(X,y)\n",
    "print(model.feature_importances_)\n",
    "feat_importances=pd.Series(model.feature_importances_,index=X.columns)\n",
    "feat_importances.nlargest(25).plot(kind='barh')\n",
    "plt.show()"
   ]
  },
  {
   "cell_type": "code",
   "execution_count": 18,
   "metadata": {},
   "outputs": [
    {
     "data": {
      "text/html": [
       "<div>\n",
       "<style scoped>\n",
       "    .dataframe tbody tr th:only-of-type {\n",
       "        vertical-align: middle;\n",
       "    }\n",
       "\n",
       "    .dataframe tbody tr th {\n",
       "        vertical-align: top;\n",
       "    }\n",
       "\n",
       "    .dataframe thead th {\n",
       "        text-align: right;\n",
       "    }\n",
       "</style>\n",
       "<table border=\"1\" class=\"dataframe\">\n",
       "  <thead>\n",
       "    <tr style=\"text-align: right;\">\n",
       "      <th></th>\n",
       "      <th>LGA_NAME</th>\n",
       "      <th>ACCIDENT_TIME</th>\n",
       "      <th>DAY_OF_WEEK</th>\n",
       "      <th>SPEED_ZONE</th>\n",
       "      <th>RMA_ALL</th>\n",
       "      <th>LIGHT_CONDITION</th>\n",
       "      <th>ROAD_GEOMETRY</th>\n",
       "      <th>DIVIDED_ALL</th>\n",
       "      <th>YOUNG_DRIVER</th>\n",
       "      <th>PASSENGERVEHICLE</th>\n",
       "      <th>...</th>\n",
       "      <th>NODE_TYPE</th>\n",
       "      <th>OLD_DRIVER</th>\n",
       "      <th>ALCOHOLTIME</th>\n",
       "      <th>MOTORIST</th>\n",
       "      <th>PEDESTRIAN</th>\n",
       "      <th>MOTORCYCLE</th>\n",
       "      <th>UNLICENCSED</th>\n",
       "      <th>BICYCLIST</th>\n",
       "      <th>ALCOHOL_RELATED</th>\n",
       "      <th>HEAVYVEHICLE</th>\n",
       "    </tr>\n",
       "  </thead>\n",
       "  <tbody>\n",
       "    <tr>\n",
       "      <th>70998</th>\n",
       "      <td>20</td>\n",
       "      <td>18</td>\n",
       "      <td>4</td>\n",
       "      <td>4</td>\n",
       "      <td>18</td>\n",
       "      <td>4</td>\n",
       "      <td>3</td>\n",
       "      <td>2</td>\n",
       "      <td>1</td>\n",
       "      <td>2</td>\n",
       "      <td>...</td>\n",
       "      <td>1</td>\n",
       "      <td>0</td>\n",
       "      <td>1</td>\n",
       "      <td>0</td>\n",
       "      <td>0</td>\n",
       "      <td>0</td>\n",
       "      <td>0</td>\n",
       "      <td>0</td>\n",
       "      <td>0</td>\n",
       "      <td>0</td>\n",
       "    </tr>\n",
       "    <tr>\n",
       "      <th>45443</th>\n",
       "      <td>20</td>\n",
       "      <td>16</td>\n",
       "      <td>3</td>\n",
       "      <td>8</td>\n",
       "      <td>9</td>\n",
       "      <td>4</td>\n",
       "      <td>3</td>\n",
       "      <td>0</td>\n",
       "      <td>0</td>\n",
       "      <td>2</td>\n",
       "      <td>...</td>\n",
       "      <td>1</td>\n",
       "      <td>0</td>\n",
       "      <td>1</td>\n",
       "      <td>0</td>\n",
       "      <td>0</td>\n",
       "      <td>0</td>\n",
       "      <td>0</td>\n",
       "      <td>0</td>\n",
       "      <td>0</td>\n",
       "      <td>0</td>\n",
       "    </tr>\n",
       "    <tr>\n",
       "      <th>56907</th>\n",
       "      <td>24</td>\n",
       "      <td>19</td>\n",
       "      <td>4</td>\n",
       "      <td>4</td>\n",
       "      <td>18</td>\n",
       "      <td>2</td>\n",
       "      <td>6</td>\n",
       "      <td>2</td>\n",
       "      <td>0</td>\n",
       "      <td>2</td>\n",
       "      <td>...</td>\n",
       "      <td>0</td>\n",
       "      <td>1</td>\n",
       "      <td>1</td>\n",
       "      <td>0</td>\n",
       "      <td>0</td>\n",
       "      <td>0</td>\n",
       "      <td>0</td>\n",
       "      <td>0</td>\n",
       "      <td>0</td>\n",
       "      <td>0</td>\n",
       "    </tr>\n",
       "    <tr>\n",
       "      <th>44402</th>\n",
       "      <td>14</td>\n",
       "      <td>8</td>\n",
       "      <td>1</td>\n",
       "      <td>6</td>\n",
       "      <td>7</td>\n",
       "      <td>6</td>\n",
       "      <td>0</td>\n",
       "      <td>0</td>\n",
       "      <td>1</td>\n",
       "      <td>2</td>\n",
       "      <td>...</td>\n",
       "      <td>0</td>\n",
       "      <td>0</td>\n",
       "      <td>0</td>\n",
       "      <td>0</td>\n",
       "      <td>0</td>\n",
       "      <td>0</td>\n",
       "      <td>0</td>\n",
       "      <td>0</td>\n",
       "      <td>0</td>\n",
       "      <td>0</td>\n",
       "    </tr>\n",
       "    <tr>\n",
       "      <th>35825</th>\n",
       "      <td>4</td>\n",
       "      <td>7</td>\n",
       "      <td>5</td>\n",
       "      <td>6</td>\n",
       "      <td>0</td>\n",
       "      <td>4</td>\n",
       "      <td>3</td>\n",
       "      <td>0</td>\n",
       "      <td>2</td>\n",
       "      <td>3</td>\n",
       "      <td>...</td>\n",
       "      <td>1</td>\n",
       "      <td>0</td>\n",
       "      <td>0</td>\n",
       "      <td>0</td>\n",
       "      <td>0</td>\n",
       "      <td>0</td>\n",
       "      <td>0</td>\n",
       "      <td>0</td>\n",
       "      <td>0</td>\n",
       "      <td>0</td>\n",
       "    </tr>\n",
       "    <tr>\n",
       "      <th>...</th>\n",
       "      <td>...</td>\n",
       "      <td>...</td>\n",
       "      <td>...</td>\n",
       "      <td>...</td>\n",
       "      <td>...</td>\n",
       "      <td>...</td>\n",
       "      <td>...</td>\n",
       "      <td>...</td>\n",
       "      <td>...</td>\n",
       "      <td>...</td>\n",
       "      <td>...</td>\n",
       "      <td>...</td>\n",
       "      <td>...</td>\n",
       "      <td>...</td>\n",
       "      <td>...</td>\n",
       "      <td>...</td>\n",
       "      <td>...</td>\n",
       "      <td>...</td>\n",
       "      <td>...</td>\n",
       "      <td>...</td>\n",
       "      <td>...</td>\n",
       "    </tr>\n",
       "    <tr>\n",
       "      <th>74887</th>\n",
       "      <td>8</td>\n",
       "      <td>7</td>\n",
       "      <td>6</td>\n",
       "      <td>5</td>\n",
       "      <td>5</td>\n",
       "      <td>4</td>\n",
       "      <td>3</td>\n",
       "      <td>2</td>\n",
       "      <td>1</td>\n",
       "      <td>1</td>\n",
       "      <td>...</td>\n",
       "      <td>1</td>\n",
       "      <td>0</td>\n",
       "      <td>0</td>\n",
       "      <td>0</td>\n",
       "      <td>0</td>\n",
       "      <td>0</td>\n",
       "      <td>0</td>\n",
       "      <td>0</td>\n",
       "      <td>0</td>\n",
       "      <td>0</td>\n",
       "    </tr>\n",
       "    <tr>\n",
       "      <th>74890</th>\n",
       "      <td>31</td>\n",
       "      <td>12</td>\n",
       "      <td>5</td>\n",
       "      <td>0</td>\n",
       "      <td>5</td>\n",
       "      <td>4</td>\n",
       "      <td>3</td>\n",
       "      <td>2</td>\n",
       "      <td>0</td>\n",
       "      <td>1</td>\n",
       "      <td>...</td>\n",
       "      <td>1</td>\n",
       "      <td>0</td>\n",
       "      <td>0</td>\n",
       "      <td>0</td>\n",
       "      <td>0</td>\n",
       "      <td>0</td>\n",
       "      <td>0</td>\n",
       "      <td>0</td>\n",
       "      <td>0</td>\n",
       "      <td>0</td>\n",
       "    </tr>\n",
       "    <tr>\n",
       "      <th>74892</th>\n",
       "      <td>19</td>\n",
       "      <td>14</td>\n",
       "      <td>6</td>\n",
       "      <td>8</td>\n",
       "      <td>7</td>\n",
       "      <td>4</td>\n",
       "      <td>6</td>\n",
       "      <td>1</td>\n",
       "      <td>0</td>\n",
       "      <td>1</td>\n",
       "      <td>...</td>\n",
       "      <td>0</td>\n",
       "      <td>1</td>\n",
       "      <td>0</td>\n",
       "      <td>0</td>\n",
       "      <td>0</td>\n",
       "      <td>0</td>\n",
       "      <td>0</td>\n",
       "      <td>0</td>\n",
       "      <td>0</td>\n",
       "      <td>1</td>\n",
       "    </tr>\n",
       "    <tr>\n",
       "      <th>74900</th>\n",
       "      <td>31</td>\n",
       "      <td>11</td>\n",
       "      <td>0</td>\n",
       "      <td>5</td>\n",
       "      <td>5</td>\n",
       "      <td>4</td>\n",
       "      <td>3</td>\n",
       "      <td>2</td>\n",
       "      <td>1</td>\n",
       "      <td>4</td>\n",
       "      <td>...</td>\n",
       "      <td>1</td>\n",
       "      <td>0</td>\n",
       "      <td>0</td>\n",
       "      <td>0</td>\n",
       "      <td>0</td>\n",
       "      <td>0</td>\n",
       "      <td>0</td>\n",
       "      <td>0</td>\n",
       "      <td>0</td>\n",
       "      <td>0</td>\n",
       "    </tr>\n",
       "    <tr>\n",
       "      <th>74906</th>\n",
       "      <td>9</td>\n",
       "      <td>17</td>\n",
       "      <td>0</td>\n",
       "      <td>8</td>\n",
       "      <td>0</td>\n",
       "      <td>4</td>\n",
       "      <td>3</td>\n",
       "      <td>0</td>\n",
       "      <td>0</td>\n",
       "      <td>3</td>\n",
       "      <td>...</td>\n",
       "      <td>1</td>\n",
       "      <td>0</td>\n",
       "      <td>1</td>\n",
       "      <td>0</td>\n",
       "      <td>0</td>\n",
       "      <td>0</td>\n",
       "      <td>0</td>\n",
       "      <td>0</td>\n",
       "      <td>0</td>\n",
       "      <td>0</td>\n",
       "    </tr>\n",
       "  </tbody>\n",
       "</table>\n",
       "<p>28618 rows × 25 columns</p>\n",
       "</div>"
      ],
      "text/plain": [
       "       LGA_NAME  ACCIDENT_TIME  DAY_OF_WEEK  SPEED_ZONE  RMA_ALL  \\\n",
       "70998        20             18            4           4       18   \n",
       "45443        20             16            3           8        9   \n",
       "56907        24             19            4           4       18   \n",
       "44402        14              8            1           6        7   \n",
       "35825         4              7            5           6        0   \n",
       "...         ...            ...          ...         ...      ...   \n",
       "74887         8              7            6           5        5   \n",
       "74890        31             12            5           0        5   \n",
       "74892        19             14            6           8        7   \n",
       "74900        31             11            0           5        5   \n",
       "74906         9             17            0           8        0   \n",
       "\n",
       "       LIGHT_CONDITION  ROAD_GEOMETRY  DIVIDED_ALL  YOUNG_DRIVER  \\\n",
       "70998                4              3            2             1   \n",
       "45443                4              3            0             0   \n",
       "56907                2              6            2             0   \n",
       "44402                6              0            0             1   \n",
       "35825                4              3            0             2   \n",
       "...                ...            ...          ...           ...   \n",
       "74887                4              3            2             1   \n",
       "74890                4              3            2             0   \n",
       "74892                4              6            1             0   \n",
       "74900                4              3            2             1   \n",
       "74906                4              3            0             0   \n",
       "\n",
       "       PASSENGERVEHICLE  ...  NODE_TYPE  OLD_DRIVER  ALCOHOLTIME  MOTORIST  \\\n",
       "70998                 2  ...          1           0            1         0   \n",
       "45443                 2  ...          1           0            1         0   \n",
       "56907                 2  ...          0           1            1         0   \n",
       "44402                 2  ...          0           0            0         0   \n",
       "35825                 3  ...          1           0            0         0   \n",
       "...                 ...  ...        ...         ...          ...       ...   \n",
       "74887                 1  ...          1           0            0         0   \n",
       "74890                 1  ...          1           0            0         0   \n",
       "74892                 1  ...          0           1            0         0   \n",
       "74900                 4  ...          1           0            0         0   \n",
       "74906                 3  ...          1           0            1         0   \n",
       "\n",
       "       PEDESTRIAN  MOTORCYCLE  UNLICENCSED  BICYCLIST  ALCOHOL_RELATED  \\\n",
       "70998           0           0            0          0                0   \n",
       "45443           0           0            0          0                0   \n",
       "56907           0           0            0          0                0   \n",
       "44402           0           0            0          0                0   \n",
       "35825           0           0            0          0                0   \n",
       "...           ...         ...          ...        ...              ...   \n",
       "74887           0           0            0          0                0   \n",
       "74890           0           0            0          0                0   \n",
       "74892           0           0            0          0                0   \n",
       "74900           0           0            0          0                0   \n",
       "74906           0           0            0          0                0   \n",
       "\n",
       "       HEAVYVEHICLE  \n",
       "70998             0  \n",
       "45443             0  \n",
       "56907             0  \n",
       "44402             0  \n",
       "35825             0  \n",
       "...             ...  \n",
       "74887             0  \n",
       "74890             0  \n",
       "74892             1  \n",
       "74900             0  \n",
       "74906             0  \n",
       "\n",
       "[28618 rows x 25 columns]"
      ]
     },
     "execution_count": 18,
     "metadata": {},
     "output_type": "execute_result"
    }
   ],
   "source": [
    "features=data.loc[:,feat_importances.nlargest(25).index]\n",
    "features"
   ]
  },
  {
   "cell_type": "code",
   "execution_count": 19,
   "metadata": {},
   "outputs": [],
   "source": [
    "# Defining accuracy and confiusion matrix functions\n",
    "\n",
    "def print_accuracy(classifier):\n",
    "    print(\"Train set Accuracy: \", metrics.accuracy_score(y_train, classifier.predict(X_train)))\n",
    "    print(\"Test set Accuracy: \", metrics.accuracy_score(y_test, yhat))\n",
    "\n",
    "def print_confusion(classifier):\n",
    "    titles_options = [(\"Confusion matrix, without normalization\", None),\n",
    "                      (\"Normalized confusion matrix\", 'true')]\n",
    "    for title, normalize in titles_options:\n",
    "        disp = plot_confusion_matrix(classifier, X_test, y_test,\n",
    "                                     display_labels=class_categories,\n",
    "                                     cmap=plt.cm.Blues,\n",
    "                                     normalize=normalize)\n",
    "        disp.ax_.set_title(title)\n",
    "\n",
    "        print(title)\n",
    "        print(disp.confusion_matrix)"
   ]
  },
  {
   "cell_type": "code",
   "execution_count": 20,
   "metadata": {},
   "outputs": [],
   "source": [
    "#  Normalizing data\n",
    "scaler = StandardScaler()\n",
    "features=scaler.fit_transform(features)"
   ]
  },
  {
   "cell_type": "code",
   "execution_count": 21,
   "metadata": {},
   "outputs": [],
   "source": [
    "#  Splitting the database to train and test sections\n",
    "X_train, X_test, y_train, y_test = train_test_split(features, y, test_size=0.30)\n",
    "\n",
    "# targer class categories\n",
    "class_categories=data[\"SEVERITY\"].unique()"
   ]
  },
  {
   "cell_type": "code",
   "execution_count": 22,
   "metadata": {},
   "outputs": [
    {
     "name": "stdout",
     "output_type": "stream",
     "text": [
      "Train set Accuracy:  0.6293430511182109\n",
      "Test set Accuracy:  0.638248311204286\n",
      "Confusion matrix, without normalization\n",
      "[[2848 1560]\n",
      " [1546 2632]]\n",
      "Normalized confusion matrix\n",
      "[[0.646098   0.353902  ]\n",
      " [0.37003351 0.62996649]]\n"
     ]
    },
    {
     "data": {
      "image/png": "[encoded data removed]",
      "text/plain": [
       "<Figure size 432x288 with 2 Axes>"
      ]
     },
     "metadata": {
      "needs_background": "light"
     },
     "output_type": "display_data"
    },
    {
     "data": {
      "image/png": "[encoded data removed]",
      "text/plain": [
       "<Figure size 432x288 with 2 Axes>"
      ]
     },
     "metadata": {
      "needs_background": "light"
     },
     "output_type": "display_data"
    }
   ],
   "source": [
    "# Using logistic Regression classifier\n",
    "lr=LogisticRegression(max_iter=4000, tol=0.0001).fit(X_train, y_train,)\n",
    "yhat = lr.predict(X_test)\n",
    "\n",
    "print_accuracy(lr)\n",
    "print_confusion(lr)"
   ]
  },
  {
   "cell_type": "code",
   "execution_count": 23,
   "metadata": {},
   "outputs": [
    {
     "name": "stdout",
     "output_type": "stream",
     "text": [
      "Train set Accuracy:  0.6320387380191693\n",
      "Test set Accuracy:  0.6383647798742138\n",
      "Confusion matrix, without normalization\n",
      "[[2997 1411]\n",
      " [1694 2484]]\n",
      "Normalized confusion matrix\n",
      "[[0.67990018 0.32009982]\n",
      " [0.40545716 0.59454284]]\n"
     ]
    },
    {
     "data": {
      "image/png": "[encoded data removed]",
      "text/plain": [
       "<Figure size 432x288 with 2 Axes>"
      ]
     },
     "metadata": {
      "needs_background": "light"
     },
     "output_type": "display_data"
    },
    {
     "data": {
      "image/png": "[encoded data removed]",
      "text/plain": [
       "<Figure size 432x288 with 2 Axes>"
      ]
     },
     "metadata": {
      "needs_background": "light"
     },
     "output_type": "display_data"
    }
   ],
   "source": [
    "kn = KNeighborsClassifier(n_neighbors=80,weights='uniform').fit(X_train, y_train)\n",
    "yhat = kn.predict(X_test)\n",
    "\n",
    "print_accuracy(kn)\n",
    "print_confusion(kn)"
   ]
  },
  {
   "cell_type": "code",
   "execution_count": 24,
   "metadata": {},
   "outputs": [
    {
     "name": "stdout",
     "output_type": "stream",
     "text": [
      "Train set Accuracy:  0.9973043130990416\n",
      "Test set Accuracy:  0.6180992313067785\n",
      "Confusion matrix, without normalization\n",
      "[[2709 1699]\n",
      " [1580 2598]]\n",
      "Normalized confusion matrix\n",
      "[[0.61456443 0.38543557]\n",
      " [0.37817137 0.62182863]]\n"
     ]
    },
    {
     "data": {
      "image/png": "[encoded data removed]",
      "text/plain": [
       "<Figure size 432x288 with 2 Axes>"
      ]
     },
     "metadata": {
      "needs_background": "light"
     },
     "output_type": "display_data"
    },
    {
     "data": {
      "image/png": "[encoded data removed]",
      "text/plain": [
       "<Figure size 432x288 with 2 Axes>"
      ]
     },
     "metadata": {
      "needs_background": "light"
     },
     "output_type": "display_data"
    }
   ],
   "source": [
    "# Using Random forest classifier\n",
    "rfc = RandomForestClassifier().fit(X_train, y_train)\n",
    "yhat = rfc.predict(X_test)\n",
    "\n",
    "print_accuracy(rfc)\n",
    "print_confusion(rfc)"
   ]
  }
 ],
 "metadata": {
  "kernelspec": {
   "display_name": "Python 3",
   "language": "python",
   "name": "python3"
  },
  "language_info": {
   "codemirror_mode": {
    "name": "ipython",
    "version": 3
   },
   "file_extension": ".py",
   "mimetype": "text/x-python",
   "name": "python",
   "nbconvert_exporter": "python",
   "pygments_lexer": "ipython3",
   "version": "3.8.5"
  }
 },
 "nbformat": 4,
 "nbformat_minor": 4
}
